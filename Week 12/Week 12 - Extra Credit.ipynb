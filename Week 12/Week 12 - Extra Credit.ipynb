{
  "nbformat": 4,
  "nbformat_minor": 0,
  "metadata": {
    "colab": {
      "provenance": []
    },
    "kernelspec": {
      "name": "python3",
      "display_name": "Python 3"
    },
    "language_info": {
      "name": "python"
    }
  },
  "cells": [
    {
      "cell_type": "code",
      "execution_count": 2,
      "metadata": {
        "id": "44FRhf-nWXMY"
      },
      "outputs": [],
      "source": [
        "import pandas as pd\n",
        "import torch\n",
        "import torch.nn as nn\n",
        "from sklearn.model_selection import train_test_split\n",
        "from sklearn.preprocessing import StandardScaler, LabelEncoder"
      ]
    },
    {
      "cell_type": "code",
      "source": [
        "df = pd.read_csv(\"/content/NPHA-doctor-visits.csv\")\n",
        "\n",
        "df = df.dropna()\n",
        "\n",
        "\n",
        "X = df.drop('Number of Doctors Visited', axis=1)\n",
        "y = df['Number of Doctors Visited']\n",
        "\n",
        "\n",
        "for col in X.select_dtypes(include='object').columns:\n",
        "    X[col] = LabelEncoder().fit_transform(X[col])\n",
        "\n",
        "\n",
        "scaler = StandardScaler()\n",
        "X_scaled = scaler.fit_transform(X)\n",
        "\n",
        "\n",
        "X_tensor = torch.tensor(X_scaled, dtype=torch.float32)\n",
        "y_tensor = torch.tensor(y.values, dtype=torch.float32).view(-1, 1)\n",
        "\n",
        "\n",
        "X_train, X_test, y_train, y_test = train_test_split(X_tensor, y_tensor, test_size=0.2, random_state=42)\n",
        "\n",
        "\n",
        "class SimpleNN(nn.Module):\n",
        "    def __init__(self):\n",
        "        super(SimpleNN, self).__init__()\n",
        "        self.layers = nn.Sequential(\n",
        "            nn.Linear(X.shape[1], 16),\n",
        "            nn.ReLU(),\n",
        "            nn.Linear(16, 8),\n",
        "            nn.ReLU(),\n",
        "            nn.Linear(8, 1)\n",
        "        )\n",
        "\n",
        "    def forward(self, x):\n",
        "        return self.layers(x)\n",
        "\n",
        "model = SimpleNN()\n",
        "criterion = nn.MSELoss()\n",
        "optimizer = torch.optim.Adam(model.parameters(), lr=0.01)\n",
        "\n",
        "# Train model\n",
        "for epoch in range(100):\n",
        "    model.train()\n",
        "    output = model(X_train)\n",
        "    loss = criterion(output, y_train)\n",
        "    optimizer.zero_grad()\n",
        "    loss.backward()\n",
        "    optimizer.step()\n",
        "    if (epoch + 1) % 10 == 0:\n",
        "        print(f\"Epoch {epoch+1}, Loss: {loss.item():.4f}\")\n",
        "\n",
        "model.eval()\n",
        "with torch.no_grad():\n",
        "    test_output = model(X_test)\n",
        "    test_loss = criterion(test_output, y_test)\n",
        "    print(f\"\\nTest MSE: {test_loss.item():.4f}\")"
      ],
      "metadata": {
        "colab": {
          "base_uri": "https://localhost:8080/"
        },
        "id": "-IYczsA3X79V",
        "outputId": "7c45468c-c1df-41f7-de60-385d227e0e6d"
      },
      "execution_count": 4,
      "outputs": [
        {
          "output_type": "stream",
          "name": "stdout",
          "text": [
            "Epoch 10, Loss: 2.9818\n",
            "Epoch 20, Loss: 1.1179\n",
            "Epoch 30, Loss: 0.7616\n",
            "Epoch 40, Loss: 0.4928\n",
            "Epoch 50, Loss: 0.4675\n",
            "Epoch 60, Loss: 0.4437\n",
            "Epoch 70, Loss: 0.4227\n",
            "Epoch 80, Loss: 0.4110\n",
            "Epoch 90, Loss: 0.4035\n",
            "Epoch 100, Loss: 0.3969\n",
            "\n",
            "Test MSE: 0.5162\n"
          ]
        }
      ]
    }
  ]
}