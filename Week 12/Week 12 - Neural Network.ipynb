{
  "nbformat": 4,
  "nbformat_minor": 0,
  "metadata": {
    "colab": {
      "provenance": []
    },
    "kernelspec": {
      "name": "python3",
      "display_name": "Python 3"
    },
    "language_info": {
      "name": "python"
    }
  },
  "cells": [
    {
      "cell_type": "code",
      "execution_count": 1,
      "metadata": {
        "colab": {
          "base_uri": "https://localhost:8080/"
        },
        "id": "ls1vY8XP1577",
        "outputId": "e1f7ca25-9059-44c0-abdf-64612343b3ff"
      },
      "outputs": [
        {
          "output_type": "stream",
          "name": "stdout",
          "text": [
            "Training with data size 1000 and config 1_hidden_layer_4_nodes...\n"
          ]
        },
        {
          "output_type": "stream",
          "name": "stderr",
          "text": [
            "/usr/local/lib/python3.11/dist-packages/keras/src/layers/core/dense.py:87: UserWarning: Do not pass an `input_shape`/`input_dim` argument to a layer. When using Sequential models, prefer using an `Input(shape)` object as the first layer in the model instead.\n",
            "  super().__init__(activity_regularizer=activity_regularizer, **kwargs)\n"
          ]
        },
        {
          "output_type": "stream",
          "name": "stdout",
          "text": [
            "Training with data size 1000 and config 2_hidden_layers_4_nodes_each...\n"
          ]
        },
        {
          "output_type": "stream",
          "name": "stderr",
          "text": [
            "/usr/local/lib/python3.11/dist-packages/keras/src/layers/core/dense.py:87: UserWarning: Do not pass an `input_shape`/`input_dim` argument to a layer. When using Sequential models, prefer using an `Input(shape)` object as the first layer in the model instead.\n",
            "  super().__init__(activity_regularizer=activity_regularizer, **kwargs)\n"
          ]
        },
        {
          "output_type": "stream",
          "name": "stdout",
          "text": [
            "Training with data size 10000 and config 1_hidden_layer_4_nodes...\n"
          ]
        },
        {
          "output_type": "stream",
          "name": "stderr",
          "text": [
            "/usr/local/lib/python3.11/dist-packages/keras/src/layers/core/dense.py:87: UserWarning: Do not pass an `input_shape`/`input_dim` argument to a layer. When using Sequential models, prefer using an `Input(shape)` object as the first layer in the model instead.\n",
            "  super().__init__(activity_regularizer=activity_regularizer, **kwargs)\n"
          ]
        },
        {
          "output_type": "stream",
          "name": "stdout",
          "text": [
            "Training with data size 10000 and config 2_hidden_layers_4_nodes_each...\n"
          ]
        },
        {
          "output_type": "stream",
          "name": "stderr",
          "text": [
            "/usr/local/lib/python3.11/dist-packages/keras/src/layers/core/dense.py:87: UserWarning: Do not pass an `input_shape`/`input_dim` argument to a layer. When using Sequential models, prefer using an `Input(shape)` object as the first layer in the model instead.\n",
            "  super().__init__(activity_regularizer=activity_regularizer, **kwargs)\n"
          ]
        },
        {
          "output_type": "stream",
          "name": "stdout",
          "text": [
            "Training with data size 100000 and config 1_hidden_layer_4_nodes...\n"
          ]
        },
        {
          "output_type": "stream",
          "name": "stderr",
          "text": [
            "/usr/local/lib/python3.11/dist-packages/keras/src/layers/core/dense.py:87: UserWarning: Do not pass an `input_shape`/`input_dim` argument to a layer. When using Sequential models, prefer using an `Input(shape)` object as the first layer in the model instead.\n",
            "  super().__init__(activity_regularizer=activity_regularizer, **kwargs)\n"
          ]
        },
        {
          "output_type": "stream",
          "name": "stdout",
          "text": [
            "Training with data size 100000 and config 2_hidden_layers_4_nodes_each...\n"
          ]
        },
        {
          "output_type": "stream",
          "name": "stderr",
          "text": [
            "/usr/local/lib/python3.11/dist-packages/keras/src/layers/core/dense.py:87: UserWarning: Do not pass an `input_shape`/`input_dim` argument to a layer. When using Sequential models, prefer using an `Input(shape)` object as the first layer in the model instead.\n",
            "  super().__init__(activity_regularizer=activity_regularizer, **kwargs)\n"
          ]
        },
        {
          "output_type": "stream",
          "name": "stdout",
          "text": [
            "\n",
            "Results summary:\n",
            "   Data size                 Configuration  Training error  Validation error  \\\n",
            "0       1000        1_hidden_layer_4_nodes        0.292500           0.29500   \n",
            "1       1000  2_hidden_layers_4_nodes_each        0.132500           0.13000   \n",
            "2      10000        1_hidden_layer_4_nodes        0.011250           0.01100   \n",
            "3      10000  2_hidden_layers_4_nodes_each        0.004250           0.00400   \n",
            "4     100000        1_hidden_layer_4_nodes        0.001713           0.00160   \n",
            "5     100000  2_hidden_layers_4_nodes_each        0.001900           0.00245   \n",
            "\n",
            "   Time of execution (s)  \n",
            "0               3.402155  \n",
            "1               2.728067  \n",
            "2               7.643392  \n",
            "3               7.546978  \n",
            "4              62.041069  \n",
            "5              65.032699  \n"
          ]
        }
      ],
      "source": [
        "import time\n",
        "import numpy as np\n",
        "import pandas as pd\n",
        "from sklearn.model_selection import train_test_split\n",
        "from sklearn.preprocessing import StandardScaler\n",
        "import tensorflow as tf\n",
        "from tensorflow.keras.models import Sequential\n",
        "from tensorflow.keras.layers import Dense\n",
        "\n",
        "# Load data\n",
        "pima_df = pd.read_csv(\"pima_dfdata.csv\")\n",
        "\n",
        "# Features and target\n",
        "X = pima_df.drop(columns=['outcome']).values\n",
        "y = pima_df['outcome'].values\n",
        "\n",
        "# Scale features\n",
        "scaler = StandardScaler()\n",
        "X = scaler.fit_transform(X)\n",
        "\n",
        "# Function to get dataset subset of desired size without repetition\n",
        "def generate_dataset(size):\n",
        "    size = min(size, len(X))  # Use available max size if smaller than requested\n",
        "    return X[:size], y[:size]\n",
        "\n",
        "# Function to build the model\n",
        "def build_model(input_dim, hidden_layers_config):\n",
        "    model = Sequential()\n",
        "    for idx, nodes in enumerate(hidden_layers_config):\n",
        "        if idx == 0:\n",
        "            model.add(Dense(nodes, activation='relu', input_dim=input_dim))\n",
        "        else:\n",
        "            model.add(Dense(nodes, activation='relu'))\n",
        "    model.add(Dense(1, activation='sigmoid'))\n",
        "    model.compile(loss='binary_crossentropy', optimizer='adam', metrics=['accuracy'])\n",
        "    return model\n",
        "\n",
        "# Function to train and evaluate model\n",
        "def train_evaluate_model(X, y, hidden_layers_config):\n",
        "    X_train, X_val, y_train, y_val = train_test_split(\n",
        "        X, y, test_size=0.2, random_state=42, stratify=y)\n",
        "    model = build_model(X.shape[1], hidden_layers_config)\n",
        "    start_time = time.time()\n",
        "    history = model.fit(X_train, y_train, epochs=10, batch_size=32,\n",
        "                        validation_data=(X_val, y_val), verbose=0)\n",
        "    end_time = time.time()\n",
        "    train_loss = history.history['loss'][-1]\n",
        "    val_loss = history.history['val_loss'][-1]\n",
        "    train_acc = history.history['accuracy'][-1]\n",
        "    val_acc = history.history['val_accuracy'][-1]\n",
        "    elapsed_time = end_time - start_time\n",
        "    return 1 - train_acc, 1 - val_acc, elapsed_time\n",
        "\n",
        "def main():\n",
        "    data_sizes = [1000, 10000, 100000]\n",
        "    configs = {\n",
        "        '1_hidden_layer_4_nodes': [4],\n",
        "        '2_hidden_layers_4_nodes_each': [4, 4]\n",
        "    }\n",
        "    results = []\n",
        "    for size in data_sizes:\n",
        "        X_sub, y_sub = generate_dataset(size)\n",
        "        for config_name, hidden_layers in configs.items():\n",
        "            print(f\"Training with data size {len(X_sub)} and config {config_name}...\")\n",
        "            train_error, val_error, exec_time = train_evaluate_model(X_sub, y_sub, hidden_layers)\n",
        "            results.append({\n",
        "                'Data size': len(X_sub),\n",
        "                'Configuration': config_name,\n",
        "                'Training error': train_error,\n",
        "                'Validation error': val_error,\n",
        "                'Time of execution (s)': exec_time\n",
        "            })\n",
        "    df_results = pd.DataFrame(results)\n",
        "    print(\"\\nResults summary:\")\n",
        "    print(df_results)\n",
        "\n",
        "if __name__ == '__main__':\n",
        "    main()\n"
      ]
    }
  ]
}